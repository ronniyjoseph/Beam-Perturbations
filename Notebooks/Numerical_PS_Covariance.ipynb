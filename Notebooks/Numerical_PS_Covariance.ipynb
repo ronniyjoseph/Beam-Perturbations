{
 "cells": [
  {
   "cell_type": "code",
   "execution_count": 1,
   "metadata": {},
   "outputs": [],
   "source": [
    "import numpy\n",
    "import powerbox\n",
    "from matplotlib import pyplot\n",
    "from scipy.constants import c\n",
    "from numpy import pi as pi\n",
    "from mpl_toolkits.axes_grid1 import make_axes_locatable\n",
    "\n",
    "\n",
    "import sys\n",
    "sys.path.append('../../../redundant_calibration/code/SCAR')\n",
    "from RadioTelescope import antenna_gain_creator\n",
    "from RadioTelescope import baseline_converter\n",
    "from RadioTelescope import xyz_position_creator\n",
    "from SkyModel import flux_list_to_sky_image\n",
    "from SkyModel import flux_distribution\n",
    "from quick_simulation_visibility_covariance import lm_to_theta_phi\n",
    "from quick_simulation_visibility_covariance import mwa_tile_beam\n",
    "from scipy.constants import c as light_speed\n",
    "\n",
    "def colorbar(mappable):\n",
    "    ax = mappable.axes\n",
    "    fig = ax.figure\n",
    "    divider = make_axes_locatable(ax)\n",
    "    cax = divider.append_axes(\"right\", size=\"5%\", pad=0.05)\n",
    "    return fig.colorbar(mappable, cax=cax)"
   ]
  },
  {
   "cell_type": "code",
   "execution_count": 2,
   "metadata": {},
   "outputs": [],
   "source": [
    "def beam_width(frequency, diameter= 4, epsilon = 1):\n",
    "    \n",
    "    sigma =  epsilon*c/(frequency*diameter)\n",
    "    width = numpy.sin(0.5*sigma)\n",
    "    return width\n",
    "\n",
    "\n",
    "def ideal_gaussian_beam(source_l, source_m, nu, diameter = 4, epsilon = 1):\n",
    "    sigma = beam_width(nu, diameter, epsilon)\n",
    "    \n",
    "    beam_attenuation = numpy.exp(-(source_l**2. +  source_m**2.)/(2*sigma**2))\n",
    "    \n",
    "    return beam_attenuation\n",
    "\n",
    "\n",
    "def broken_gaussian_beam(faulty_dipole, ideal_beam, source_l, source_m, nu, diameter = 4, epsilon = 1, dx=1.1):\n",
    "    wavelength = c/nu    \n",
    "    x_offsets = numpy.array([-1.5, -0.5, 0.5, 1.5, -1.5, -0.5, 0.5, 1.5, -1.5,\n",
    "                             -0.5, 0.5, 1.5, -1.5, -0.5, 0.5, 1.5], dtype=numpy.float32)*dx\n",
    "\n",
    "    y_offsets = numpy.array([1.5, 1.5, 1.5, 1.5, 0.5, 0.5, 0.5, 0.5, -0.5, -0.5,\n",
    "                             -0.5, -0.5, -1.5, -1.5, -1.5, -1.5], dtype=numpy.float32)*dx\n",
    "    \n",
    "    dipole_beam = ideal_gaussian_beam(source_l, source_m, nu, diameter/4)\n",
    "    broken_beam = ideal_beam - 1/16*dipole_beam*numpy.exp(-2.*numpy.pi*1j*(x_offsets[faulty_dipole]*numpy.abs(source_l)+ \n",
    "                                                                           y_offsets[faulty_dipole]*numpy.abs(source_m))/wavelength)\n",
    "    \n",
    "    return broken_beam\n",
    "\n",
    "\n",
    "def ideal_mwa_beam_loader(theta, phi, frequency, load=True):\n",
    "    if not load:\n",
    "        if verbose:\n",
    "            print(\"Creating the idealised MWA beam\\n\")\n",
    "        ideal_beam = mwa_tile_beam(tt, pp, frequency=ff)\n",
    "        if not os.path.exists(\"beam_maps\"):\n",
    "            print(\"\")\n",
    "            print(\"Creating beam map folder locally!\")\n",
    "            os.makedirs(\"beam_maps\")\n",
    "        numpy.save(f\"beam_maps/ideal_beam_map.npy\", ideal_beam)\n",
    "    if load:\n",
    "        if verbose:\n",
    "            print(\"Loading the idealised MWA beam\\n\")\n",
    "        ideal_beam = numpy.load(f\"beam_maps/ideal_beam_map.npy\")\n",
    "    \n",
    "    return ideal_beam\n",
    "\n",
    "\n",
    "def broken_mwa_beam_loader(theta, phi, frequency, faulty_dipole, load =True):\n",
    "    dipole_weights = numpy.zeros(16) + 1\n",
    "    dipole_weights[faulty_dipole] = 0\n",
    "    if load:\n",
    "        print(f\"Loading perturbed tile beam for dipole {faulty_dipole}\")\n",
    "        perturbed_beam = numpy.load(f\"beam_maps/perturbed_dipole_{faulty_dipole}_map.npy\")\n",
    "    elif not load:\n",
    "        #print(f\"Generating perturbed tile beam for dipole {faulty_dipole}\")\n",
    "        perturbed_beam = mwa_tile_beam(tt, pp, weights=dipole_weights, frequency=ff)\n",
    "        if not os.path.exists(\"beam_maps\"):\n",
    "            print(\"\")\n",
    "            print(\"Creating beam map folder locally!\")\n",
    "            os.makedirs(\"beam_maps\")\n",
    "        numpy.save(f\"beam_maps/perturbed_dipole_{faulty_dipole}_map.npy\", perturbed_beam)\n",
    "    \n",
    "    return perturbed_beam\n",
    "\n",
    "\n",
    "def visibility_generator(sky_cube, antenna1_response, antenna2_response, pad_factor = 3):\n",
    "    apparent_sky = sky_cube * antenna1_response * numpy.conj(antenna2_response)\n",
    "\n",
    "    padded_sky = numpy.pad(apparent_sky, pad_factor * len(apparent_sky), mode=\"constant\")\n",
    "    shifted_image = numpy.fft.ifftshift(padded_sky, axes=(0, 1))\n",
    "    visibility_grid, uv_coordinates = powerbox.dft.fft(shifted_image, L=2 * (2*pad_factor + 1), axes=(0, 1))\n",
    "    \n",
    "    return visibility_grid, uv_coordinates\n",
    "\n",
    "\n",
    "def generate_visibility_realisations(max_x, max_y, frequency_range, sky_param, sky_seed = 0, \n",
    "                                     beam_type = \"gaussian\", load =True, verbose = False):\n",
    "    xyz_positions = numpy.zeros((2,4))\n",
    "    xyz_positions[0,1] = 0\n",
    "    xyz_positions[0,2] = 0\n",
    "\n",
    "    xyz_positions[1,1] = max_x\n",
    "    xyz_positions[1,2] = max_y\n",
    "    \n",
    "    gain_table = antenna_gain_creator(xyz_positions, frequency_range)\n",
    "    baseline_table = baseline_converter(xyz_positions, gain_table, frequency_range, verbose = verbose)\n",
    "    \n",
    "    if sky_param[0] == 'random':\n",
    "        all_flux, all_l, all_m = flux_distribution(['random', sky_seed])\n",
    "    elif sky_param[0] == 'point':\n",
    "        all_flux, all_l, all_m = flux_distribution(['single', sky_param[1],\n",
    "                                                    sky_param[2], sky_param[3]])\n",
    "    point_source_list = numpy.stack((all_flux, all_l, all_m), axis=1)\n",
    "    \n",
    "    if verbose:\n",
    "        print(\"Creating the sky\\n\")\n",
    "    sky_cube, l_coordinates, m_coordinates = flux_list_to_sky_image(point_source_list, baseline_table)\n",
    "    ll, mm, ff = numpy.meshgrid(l_coordinates, m_coordinates, frequency_range)\n",
    "    \n",
    "    if beam_type == \"MWA\":\n",
    "        tt, pp, = lm_to_theta_phi(ll, mm)\n",
    "        ideal_beam = ideal_mwa_beam_loader(tt,pp,ff, load)\n",
    "    elif beam_type == \"gaussian\":\n",
    "        ideal_beam = ideal_gaussian_beam(ll, mm, ff)\n",
    "    padfactor = 3\n",
    "    \n",
    "    if verbose:\n",
    "        print(\"Iterating over frequencies\")\n",
    "    \n",
    "    uvf_variance = numpy.zeros((ll.shape[0]*(2*padfactor + 1), ll.shape[1]*(2*padfactor + 1), len(frequency_range)),\n",
    "                               dtype=complex)\n",
    "    for frequency_index in range(len(frequency_range)):\n",
    "        visibility_realisations = numpy.zeros((ll.shape[0]*ll.shape[1]*(2*padfactor + 1)**2, 16), \n",
    "                                              dtype = complex)\n",
    "        for faulty_dipole in range(16):\n",
    "            if beam_type == \"MWA\":\n",
    "                tt, pp, = lm_to_theta_phi(ll, mm)\n",
    "                broken_beam = broken_mwa_beam_loader(tt, pp, ff, faulty_dipole, load)\n",
    "            if beam_type == \"gaussian\":\n",
    "                broken_beam = broken_gaussian_beam(faulty_dipole, ideal_beam, ll, mm, ff)\n",
    "            \n",
    "            visibilities, uv_grid = visibility_generator(sky_cube[...,frequency_index], ideal_beam[...,frequency_index], \n",
    "                                 broken_beam[...,frequency_index], pad_factor = padfactor)\n",
    "            \n",
    "            visibility_realisations[:, faulty_dipole] = visibilities.flatten()\n",
    "        \n",
    "        uvf_variance[...,frequency_index] = numpy.var(visibility_realisations, axis=1).reshape(uv_grid.shape[1],uv_grid.shape[1])\n",
    "    return uvf_variance, uv_grid\n",
    "    "
   ]
  },
  {
   "cell_type": "markdown",
   "metadata": {},
   "source": [
    "### Set up parameters for a uniform baseline coverage"
   ]
  },
  {
   "cell_type": "code",
   "execution_count": 3,
   "metadata": {},
   "outputs": [],
   "source": [
    "dx_max = 50\n",
    "dy_max = 50\n",
    "\n",
    "sky_param = ['random', 200, -0.10, 0.0]\n",
    "frequency_range = numpy.linspace(140, 160, 10)*1e6\n",
    "noise_param = [False, 20e3, 40e3, 120]\n",
    "beam_param = ['gaussian', 0.25, 0.25]"
   ]
  },
  {
   "cell_type": "code",
   "execution_count": 4,
   "metadata": {},
   "outputs": [
    {
     "name": "stdout",
     "output_type": "stream",
     "text": [
      "\n",
      "Converting xyz to uvw-coordinates\n",
      "\n",
      "Number of antenna = 2\n",
      "Total number of baselines = 1\n",
      "Creating the sky\n",
      "\n",
      "Iterating over frequencies\n"
     ]
    }
   ],
   "source": [
    "uvf_variance, uv_grid = generate_visibility_realisations(dx_max, dy_max, frequency_range, sky_param, \n",
    "                                                         sky_seed = 0,  beam_type = \"gaussian\", load =True, \n",
    "                                                         verbose = True)"
   ]
  },
  {
   "cell_type": "code",
   "execution_count": 14,
   "metadata": {},
   "outputs": [],
   "source": [
    "PS_2D, u_bins =  powerbox.tools.angular_average_nd(uvf_variance, [uv_grid[0], uv_grid[1], frequency_range], \n",
    "                                           bins = 500, n = 2)\n"
   ]
  },
  {
   "cell_type": "code",
   "execution_count": 15,
   "metadata": {},
   "outputs": [
    {
     "data": {
      "text/plain": [
       "<matplotlib.collections.PolyCollection at 0x7f9b03e7cc88>"
      ]
     },
     "execution_count": 15,
     "metadata": {},
     "output_type": "execute_result"
    },
    {
     "data": {
      "image/png": "[encoded data removed]",
      "text/plain": [
       "<Figure size 432x288 with 1 Axes>"
      ]
     },
     "metadata": {
      "needs_background": "light"
     },
     "output_type": "display_data"
    }
   ],
   "source": [
    "pyplot.pcolor(u_bins, frequency_range/1e6, numpy.log10(numpy.abs(PS_2D.T)))"
   ]
  },
  {
   "cell_type": "code",
   "execution_count": 19,
   "metadata": {},
   "outputs": [
    {
     "name": "stdout",
     "output_type": "stream",
     "text": [
      "[-133.21428571 -133.14285714 -133.07142857 ...  133.07142857  133.14285714\n",
      "  133.21428571]\n"
     ]
    }
   ],
   "source": [
    "print(uv_grid[0])"
   ]
  },
  {
   "cell_type": "code",
   "execution_count": null,
   "metadata": {},
   "outputs": [],
   "source": []
  }
 ],
 "metadata": {
  "kernelspec": {
   "display_name": "Python 3",
   "language": "python",
   "name": "python3"
  },
  "language_info": {
   "codemirror_mode": {
    "name": "ipython",
    "version": 3
   },
   "file_extension": ".py",
   "mimetype": "text/x-python",
   "name": "python",
   "nbconvert_exporter": "python",
   "pygments_lexer": "ipython3",
   "version": "3.7.0"
  }
 },
 "nbformat": 4,
 "nbformat_minor": 2
}
