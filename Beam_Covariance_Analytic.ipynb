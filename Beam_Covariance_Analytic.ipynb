{
 "cells": [
  {
   "cell_type": "code",
   "execution_count": 57,
   "metadata": {},
   "outputs": [],
   "source": [
    "import numpy\n",
    "from matplotlib import pyplot\n",
    "from scipy.constants import c"
   ]
  },
  {
   "cell_type": "code",
   "execution_count": 58,
   "metadata": {},
   "outputs": [],
   "source": [
    "def window_function(u, u_0, sigma):\n",
    "    return numpy.exp(-(u-u_0)**2.*sigma)"
   ]
  },
  {
   "cell_type": "code",
   "execution_count": 59,
   "metadata": {},
   "outputs": [],
   "source": [
    "def averaged_window_function(u,u_offsets,sigma):\n",
    "    offset_windows = numpy.array([window_function(u, u_i, sigma) for u_i in u_offsets])\n",
    "    print(offset_windows.shape)\n",
    "    \n",
    "    averaged_window = numpy.mean(offset_windows, axis=0)\n",
    "    print(averaged_window.shape)\n",
    "    return averaged_window"
   ]
  },
  {
   "cell_type": "code",
   "execution_count": 60,
   "metadata": {},
   "outputs": [],
   "source": [
    "def summed_window_function(u,u_offsets,sigma):\n",
    "    offset_windows = numpy.array([window_function(u, u_i, sigma) for u_i in u_offsets])\n",
    "    print(offset_windows.shape)\n",
    "    \n",
    "    summed_window = numpy.sum(offset_windows, axis=0)\n",
    "    return summed_window"
   ]
  },
  {
   "cell_type": "code",
   "execution_count": 62,
   "metadata": {},
   "outputs": [
    {
     "name": "stdout",
     "output_type": "stream",
     "text": [
      "(4, 100)\n",
      "(100,)\n",
      "(4, 100)\n"
     ]
    },
    {
     "data": {
      "text/plain": [
       "[<matplotlib.lines.Line2D at 0x121bcc978>]"
      ]
     },
     "execution_count": 62,
     "metadata": {},
     "output_type": "execute_result"
    },
    {
     "data": {
      "image/png": "[encoded data removed]",
      "text/plain": [
       "<Figure size 432x288 with 1 Axes>"
      ]
     },
     "metadata": {},
     "output_type": "display_data"
    }
   ],
   "source": [
    "wavelength = 2.\n",
    "x_coordinates = numpy.array([-1.5,-0.5,0.5,1.5])*1.1\n",
    "u_offsets = x_coordinates/wavelength\n",
    "width = (x_coordinates.max() - x_coordinates.min())/wavelength\n",
    "\n",
    "\n",
    "u_coordinates = numpy.linspace(-10,10,100)\n",
    "\n",
    "averaged_window = averaged_window_function(u_coordinates, u_offsets, width )\n",
    "summed_window = summed_window_function(u_coordinates, u_offsets, width )\n",
    "\n",
    "\n",
    "\n",
    "for offset in u_offsets:\n",
    "    single = window_function(u_coordinates, offset, width)\n",
    "    pyplot.plot(u_coordinates,single)\n",
    "\n",
    "approximation = window_function(u_coordinates, 0, width*0.42)/0.42\n",
    "\n",
    "#pyplot.plot(u_coordinates, averaged_window)\n",
    "pyplot.plot(u_coordinates, summed_window)\n",
    "pyplot.plot(u_coordinates, approximation, linestyle='--')"
   ]
  },
  {
   "cell_type": "code",
   "execution_count": 56,
   "metadata": {},
   "outputs": [
    {
     "ename": "NameError",
     "evalue": "name 'window' is not defined",
     "output_type": "error",
     "traceback": [
      "\u001b[0;31m---------------------------------------------------------------------------\u001b[0m",
      "\u001b[0;31mNameError\u001b[0m                                 Traceback (most recent call last)",
      "\u001b[0;32m<ipython-input-56-fe2b4e0121d4>\u001b[0m in \u001b[0;36m<module>\u001b[0;34m()\u001b[0m\n\u001b[1;32m      9\u001b[0m \u001b[0;34m\u001b[0m\u001b[0m\n\u001b[1;32m     10\u001b[0m \u001b[0;34m\u001b[0m\u001b[0m\n\u001b[0;32m---> 11\u001b[0;31m \u001b[0mpyplot\u001b[0m\u001b[0;34m.\u001b[0m\u001b[0mplot\u001b[0m\u001b[0;34m(\u001b[0m\u001b[0mu_coordinates\u001b[0m\u001b[0;34m,\u001b[0m \u001b[0mwindow\u001b[0m\u001b[0;34m)\u001b[0m\u001b[0;34m\u001b[0m\u001b[0m\n\u001b[0m",
      "\u001b[0;31mNameError\u001b[0m: name 'window' is not defined"
     ]
    }
   ],
   "source": [
    "wavelength = 2.\n",
    "x_coordinates = numpy.array([-1.5,-0.5,0.5,1.5])*1.1\n",
    "u_offsets = x_coordinates/wavelength\n",
    "width = (x_coordinates.max() - x_coordinates.min())/wavelength\n",
    "\n",
    "\n",
    "u_coordinates = numpy.linspace(-10,10,100)\n",
    "\n",
    "\n",
    "\n",
    "pyplot.plot(u_coordinates, window)\n",
    "\n"
   ]
  },
  {
   "cell_type": "code",
   "execution_count": 40,
   "metadata": {},
   "outputs": [],
   "source": [
    "def beam_width(frequency, diameter= 4, epsilon = 1):\n",
    "    return epsilon*c/(frequency*diameter)"
   ]
  },
  {
   "cell_type": "code",
   "execution_count": 33,
   "metadata": {},
   "outputs": [],
   "source": [
    "class PointSourceSky:\n",
    "    \n",
    "    def __init__(self):\n",
    "        self.flux_0 = None\n",
    "        self.frequency_0 = None\n",
    "        self.l_coordinate = None\n",
    "        self.m_coordinate = None\n",
    "        self.spectral_index = 0.8\n",
    "        \n",
    "        \n",
    "    def add_source(self, flux, frequency_0 = 150e6, l_coordinate = 0, m_coordinate =0 , spectral_index=0.8):\n",
    "        assert isinstance(flux, numpy.ndarray), \"Please input a numpy array for flux\"\n",
    "        assert isinstance(frequency_0, numpy.ndarray), \"Please input a numpy array for frequency\"\n",
    "        assert isinstance(l_coordinate, numpy.ndarray), \"Please input a numpy array l coordinate\"\n",
    "        assert isinstance(m_coordinate, numpy.ndarray), \"Please input a numpy array m coordinate\"\n",
    "        assert isinstance(spectral_index, numpy.ndarray), \"Please input a numpy array spectral index\"\n",
    "\n",
    "        if self.flux_0 == None:\n",
    "            self.flux_0 = flux\n",
    "            self.frequency_0 = frequency_0\n",
    "            self.l_coordinate = l_coordinate\n",
    "            self.m_coordinate = m_coordinate\n",
    "            self.spectral_index = spectral_index\n",
    "        else:\n",
    "            self.flux_0.append(flux)\n",
    "            self.frequency_0.append(frequency_0)\n",
    "            self.l_coordinate.append(l_coordinate)\n",
    "            self.m_coordinate.append(m_coordinate)\n",
    "            self.spectral_index.append(spectral_index)\n",
    "        return\n",
    "            \n",
    "    "
   ]
  },
  {
   "cell_type": "code",
   "execution_count": 36,
   "metadata": {},
   "outputs": [],
   "source": [
    "def visibility_model(u,v, frequency1, sources):\n",
    "    visibilities = numpy.zeros(frequency1.shape, dtype=complex)\n",
    "    nu_low = min(frequency1)\n",
    "    for i in range(len(sources.flux_0)):\n",
    "        source_l = sources.l_coordinate[i]\n",
    "        source_m = sources.m_coordinate[i]\n",
    "        \n",
    "        beam_response = numpy.exp(-(sources.source_l**2. +  sources.m_coordinate[i]**2.)/beamwidth(frequency1))\n",
    "        fourier_kernel= numpy.exp(-2*numpy.pi*1j*(source_l*u + source_m*v)*frequency1/nu_low)\n",
    "        visibilities += sources.flux_0[i]*(frequency1/nu_low)**-0.8*beam_response*fourier_kernel\n",
    "    return visibilities\n",
    "\n",
    "def visibility_perturbation(u,v, frequency1, sources):\n",
    "    perturbation = numpy.zeros(frequency1.shape, dtype=complex)\n",
    "    nu_low = min(frequency1)\n",
    "    for i in range(len(sources.flux_0)):\n",
    "        source_l = sources.l_coordinate[i]\n",
    "        source_m = sources.m_coordinate[i]\n",
    "        beam_response = numpy.exp(-(sources.source_l**2. +  sources.m_coordinate[i]**2.)/beamwidth(frequency1))\n",
    "        fourier_kernel= numpy.exp(-2*numpy.pi*1j*(source_l*u + source_m*v)*frequency1/nu_low)\n",
    "        visibility = sources.flux_0[i]*(frequency1/nu_low)**-0.8*beam_response*fourier_kernel\n",
    "        perturbation_phase = numpy.exp(2*numpy.pi*1j*sources.l_coordinate)\n",
    "        perturbation += visibility*\n",
    "    \n",
    "def beam_covariance(u ,nu1, nu2 ,S_0 = 100, source_l = 0, spectral_index = 0.8 ):\n",
    "    nu_low = numpy.min(nu1)\n",
    "    dx = 1.1\n",
    "    beam_1 = beam_width(nu1)\n",
    "    beam_2 = beam_width(nu2)\n",
    "    \n",
    "    Sigma = (beam_1**2.+ beam_2**2.)/(beam_1*beam_2)\n",
    "    \n",
    "    \n",
    "    \n",
    "    source_flux = S_0*(nu1*nu2/nu_low**2.)**-spectral_index\n",
    "    beam_attenuation = numpy.exp(-source_l**2.*Sigma)\n",
    "    \n",
    "    VdV = numpy.exp(-2*numpy.pi*1j*u*source_l/nu_low*(nu1-nu2))*numpy.exp(4*numpy.pi*1j*source_l/beam_2)*\\\n",
    "    ((numpy.exp(-2*numpy.pi*1j*source_l/beam_2) - 1)**2./(numpy.exp(2*numpy.pi*1j*dx*nu2*source_l/c) - 1)**2.)\n",
    "    \n",
    "    dVV = numpy.exp(2*numpy.pi*1j*u*source_l/nu_low*(nu1-nu2))*numpy.exp(-4*numpy.pi*1j*source_l/beam_1)*\\\n",
    "    ((numpy.exp(2*numpy.pi*1j*source_l/beam_1) - 1)**2./(numpy.exp(2*numpy.pi*1j*dx*nu1*source_l/c) - 1)**2.)\n",
    "    \n",
    "    C = source_l*beam_attenuation*(VdV + dVV)\n",
    "    \n",
    "    return C"
   ]
  },
  {
   "cell_type": "code",
   "execution_count": 37,
   "metadata": {},
   "outputs": [],
   "source": [
    "flux = numpy.array([100])\n",
    "frequency_0 = numpy.array([150e6])\n",
    "source_l = numpy.array([0])\n",
    "source_m = numpy.array([0])\n",
    "spectral_index = numpy.array([0.8])\n",
    "\n",
    "\n",
    "sky_model = PointSourceSky()\n",
    "sky_model.add_source(flux, frequency_0, source_l, source_m, spectral_index)"
   ]
  },
  {
   "cell_type": "code",
   "execution_count": 53,
   "metadata": {},
   "outputs": [],
   "source": [
    "u_eor = 50\n",
    "frequencies = numpy.linspace(130, 160, 100)\n",
    "\n",
    "ff1, ff2 = numpy.meshgrid(frequencies, frequencies)\n",
    "\n",
    "covariance = beam_covariance(u_eor, ff1, ff2, source_l= 0.2)"
   ]
  },
  {
   "cell_type": "code",
   "execution_count": 54,
   "metadata": {},
   "outputs": [
    {
     "data": {
      "image/png": "[encoded data removed]",
      "text/plain": [
       "<Figure size 432x432 with 1 Axes>"
      ]
     },
     "metadata": {},
     "output_type": "display_data"
    }
   ],
   "source": [
    "figure = pyplot.figure(figsize = (6,6))\n",
    "covariance_plot = figure.add_subplot(111)\n",
    "covariance_plot.pcolor(frequencies, frequencies,numpy.abs(covariance))\n",
    "covariance_plot.set_xlabel('Frequency Bin (MHz)')\n",
    "covariance_plot.set_ylabel('Frequency Bin (MHz)')\n",
    "\n",
    "\n",
    "covariance_plot.set_aspect('equal')"
   ]
  },
  {
   "cell_type": "code",
   "execution_count": null,
   "metadata": {},
   "outputs": [],
   "source": []
  }
 ],
 "metadata": {
  "kernelspec": {
   "display_name": "Python 3",
   "language": "python",
   "name": "python3"
  },
  "language_info": {
   "codemirror_mode": {
    "name": "ipython",
    "version": 3
   },
   "file_extension": ".py",
   "mimetype": "text/x-python",
   "name": "python",
   "nbconvert_exporter": "python",
   "pygments_lexer": "ipython3",
   "version": "3.7.0"
  }
 },
 "nbformat": 4,
 "nbformat_minor": 2
}
